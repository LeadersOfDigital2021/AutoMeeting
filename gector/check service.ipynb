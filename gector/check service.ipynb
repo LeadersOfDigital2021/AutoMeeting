{
 "cells": [
  {
   "cell_type": "code",
   "execution_count": 1,
   "id": "eefbf073-d57d-49d3-a88e-f158d4e4f653",
   "metadata": {},
   "outputs": [],
   "source": [
    "import requests\n",
    "import json"
   ]
  },
  {
   "cell_type": "code",
   "execution_count": 2,
   "id": "8fa3ddee-a933-40f7-b55c-e11d77123cfb",
   "metadata": {},
   "outputs": [
    {
     "data": {
      "text/plain": [
       "(200,\n",
       " {'text': '\\nОткрываем наше заседание, посвященное решению проблемы, связанной с автоматическим протокола. совещаний.\\nСегодня двадцать первое августа две тысячи двадцать первого года.\\nПовестка дня: рассмотрение и утверждение плана решения данной задачи/\\n\\n'})"
      ]
     },
     "execution_count": 2,
     "metadata": {},
     "output_type": "execute_result"
    }
   ],
   "source": [
    "text = \"\"\"\n",
    "открываем наше заседание посвященное решению проблемы связанной с автоматическим протоколированием совещаний\n",
    "сегодня двадцать первое августа две тысячи двадцать первого года\n",
    "повестка дня рассмотрение и утверждение плана решения данной задачи\n",
    "\"\"\"\n",
    "r = requests.post('http://localhost:8885/beauty/', params={'text': text})\n",
    "\n",
    "r.status_code, json.loads(r.content)"
   ]
  }
 ],
 "metadata": {
  "kernelspec": {
   "display_name": "Python 3",
   "language": "python",
   "name": "python3"
  },
  "language_info": {
   "codemirror_mode": {
    "name": "ipython",
    "version": 3
   },
   "file_extension": ".py",
   "mimetype": "text/x-python",
   "name": "python",
   "nbconvert_exporter": "python",
   "pygments_lexer": "ipython3",
   "version": "3.8.8"
  }
 },
 "nbformat": 4,
 "nbformat_minor": 5
}
